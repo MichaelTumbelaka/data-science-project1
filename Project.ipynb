{
 "cells": [
  {
   "cell_type": "markdown",
   "id": "36c3a4e2-b1ef-4534-9132-709a376b9297",
   "metadata": {},
   "source": [
    "# Heart Disease Level Classification Using Age, Cholesterol Level and Blood Pressure"
   ]
  },
  {
   "cell_type": "markdown",
   "id": "3c34cf6e-b323-4a6b-89de-eca36a4692f8",
   "metadata": {},
   "source": [
    "# Introduction"
   ]
  },
  {
   "cell_type": "markdown",
   "id": "cba38f60-71e4-4898-acb3-9ea5a3f985c2",
   "metadata": {},
   "source": [
    "Heart Disease by definition is a type of disease that affects the heart. There are a couple of levels for heart disease which consist of 5 levels. Level 0 which means people with no heart disease, level 1 means people who are at risk for heart failure but do not yet have symptoms or structural or functional heart disease, level 2 means people without current or previous symptoms of heart failure but with either structural heart disease, increased filling pressures in the heart or other risk factors, level 3 means people with current or previous symptoms of heart failure, and level 4 means people with heart failure symptoms that interfere with daily life functions or lead to repeated hospitalizations. \n",
    "\n",
    "Question : \n",
    "What is the heart disease level of a new observation predicted by the age, cholesterol level, and blood pressure."
   ]
  },
  {
   "cell_type": "markdown",
   "id": "5c1bb3dd-1291-4dee-8192-cccdbe55ace6",
   "metadata": {},
   "source": [
    "## Libraries"
   ]
  },
  {
   "cell_type": "code",
   "execution_count": 1,
   "id": "46d6d954-ae94-46a5-8723-c8ce5a415fc0",
   "metadata": {},
   "outputs": [
    {
     "name": "stderr",
     "output_type": "stream",
     "text": [
      "Warning message:\n",
      "“package ‘ggplot2’ was built under R version 4.3.2”\n",
      "── \u001b[1mAttaching core tidyverse packages\u001b[22m ──────────────────────── tidyverse 2.0.0 ──\n",
      "\u001b[32m✔\u001b[39m \u001b[34mdplyr    \u001b[39m 1.1.3     \u001b[32m✔\u001b[39m \u001b[34mreadr    \u001b[39m 2.1.4\n",
      "\u001b[32m✔\u001b[39m \u001b[34mforcats  \u001b[39m 1.0.0     \u001b[32m✔\u001b[39m \u001b[34mstringr  \u001b[39m 1.5.0\n",
      "\u001b[32m✔\u001b[39m \u001b[34mggplot2  \u001b[39m 3.5.0     \u001b[32m✔\u001b[39m \u001b[34mtibble   \u001b[39m 3.2.1\n",
      "\u001b[32m✔\u001b[39m \u001b[34mlubridate\u001b[39m 1.9.2     \u001b[32m✔\u001b[39m \u001b[34mtidyr    \u001b[39m 1.3.0\n",
      "\u001b[32m✔\u001b[39m \u001b[34mpurrr    \u001b[39m 1.0.2     \n",
      "── \u001b[1mConflicts\u001b[22m ────────────────────────────────────────── tidyverse_conflicts() ──\n",
      "\u001b[31m✖\u001b[39m \u001b[34mdplyr\u001b[39m::\u001b[32mfilter()\u001b[39m masks \u001b[34mstats\u001b[39m::filter()\n",
      "\u001b[31m✖\u001b[39m \u001b[34mdplyr\u001b[39m::\u001b[32mlag()\u001b[39m    masks \u001b[34mstats\u001b[39m::lag()\n",
      "\u001b[36mℹ\u001b[39m Use the conflicted package (\u001b[3m\u001b[34m<http://conflicted.r-lib.org/>\u001b[39m\u001b[23m) to force all conflicts to become errors\n",
      "── \u001b[1mAttaching packages\u001b[22m ────────────────────────────────────── tidymodels 1.1.1 ──\n",
      "\n",
      "\u001b[32m✔\u001b[39m \u001b[34mbroom       \u001b[39m 1.0.5     \u001b[32m✔\u001b[39m \u001b[34mrsample     \u001b[39m 1.2.0\n",
      "\u001b[32m✔\u001b[39m \u001b[34mdials       \u001b[39m 1.2.0     \u001b[32m✔\u001b[39m \u001b[34mtune        \u001b[39m 1.1.2\n",
      "\u001b[32m✔\u001b[39m \u001b[34minfer       \u001b[39m 1.0.5     \u001b[32m✔\u001b[39m \u001b[34mworkflows   \u001b[39m 1.1.3\n",
      "\u001b[32m✔\u001b[39m \u001b[34mmodeldata   \u001b[39m 1.2.0     \u001b[32m✔\u001b[39m \u001b[34mworkflowsets\u001b[39m 1.0.1\n",
      "\u001b[32m✔\u001b[39m \u001b[34mparsnip     \u001b[39m 1.1.1     \u001b[32m✔\u001b[39m \u001b[34myardstick   \u001b[39m 1.2.0\n",
      "\u001b[32m✔\u001b[39m \u001b[34mrecipes     \u001b[39m 1.0.8     \n",
      "\n",
      "── \u001b[1mConflicts\u001b[22m ───────────────────────────────────────── tidymodels_conflicts() ──\n",
      "\u001b[31m✖\u001b[39m \u001b[34mscales\u001b[39m::\u001b[32mdiscard()\u001b[39m masks \u001b[34mpurrr\u001b[39m::discard()\n",
      "\u001b[31m✖\u001b[39m \u001b[34mdplyr\u001b[39m::\u001b[32mfilter()\u001b[39m   masks \u001b[34mstats\u001b[39m::filter()\n",
      "\u001b[31m✖\u001b[39m \u001b[34mrecipes\u001b[39m::\u001b[32mfixed()\u001b[39m  masks \u001b[34mstringr\u001b[39m::fixed()\n",
      "\u001b[31m✖\u001b[39m \u001b[34mdplyr\u001b[39m::\u001b[32mlag()\u001b[39m      masks \u001b[34mstats\u001b[39m::lag()\n",
      "\u001b[31m✖\u001b[39m \u001b[34myardstick\u001b[39m::\u001b[32mspec()\u001b[39m masks \u001b[34mreadr\u001b[39m::spec()\n",
      "\u001b[31m✖\u001b[39m \u001b[34mrecipes\u001b[39m::\u001b[32mstep()\u001b[39m   masks \u001b[34mstats\u001b[39m::step()\n",
      "\u001b[34m•\u001b[39m Learn how to get started at \u001b[32mhttps://www.tidymodels.org/start/\u001b[39m\n",
      "\n",
      "\n",
      "Attaching package: ‘reshape2’\n",
      "\n",
      "\n",
      "The following object is masked from ‘package:tidyr’:\n",
      "\n",
      "    smiths\n",
      "\n",
      "\n"
     ]
    }
   ],
   "source": [
    "library(repr)\n",
    "library(tidyverse)\n",
    "library(tidymodels)\n",
    "library(reshape2)"
   ]
  },
  {
   "cell_type": "markdown",
   "id": "1bc73baa-526f-4540-9963-4c3d33625fc7",
   "metadata": {},
   "source": [
    "## Loading Data and Data Wrangling"
   ]
  },
  {
   "cell_type": "code",
   "execution_count": 5,
   "id": "84a56d58-6600-402f-b23e-4e330cfe4310",
   "metadata": {},
   "outputs": [
    {
     "name": "stderr",
     "output_type": "stream",
     "text": [
      "\u001b[1mRows: \u001b[22m\u001b[34m303\u001b[39m \u001b[1mColumns: \u001b[22m\u001b[34m14\u001b[39m\n",
      "\u001b[36m──\u001b[39m \u001b[1mColumn specification\u001b[22m \u001b[36m────────────────────────────────────────────────────────\u001b[39m\n",
      "\u001b[1mDelimiter:\u001b[22m \",\"\n",
      "\u001b[31mchr\u001b[39m  (2): X12, X13\n",
      "\u001b[32mdbl\u001b[39m (12): X1, X2, X3, X4, X5, X6, X7, X8, X9, X10, X11, X14\n",
      "\n",
      "\u001b[36mℹ\u001b[39m Use `spec()` to retrieve the full column specification for this data.\n",
      "\u001b[36mℹ\u001b[39m Specify the column types or set `show_col_types = FALSE` to quiet this message.\n"
     ]
    },
    {
     "data": {
      "text/html": [
       "<table class=\"dataframe\">\n",
       "<caption>A tibble: 6 × 12</caption>\n",
       "<thead>\n",
       "\t<tr><th scope=col>age</th><th scope=col>sex</th><th scope=col>cp</th><th scope=col>trestbps</th><th scope=col>chol</th><th scope=col>fbs</th><th scope=col>restecg</th><th scope=col>thalach</th><th scope=col>exang</th><th scope=col>oldpeak</th><th scope=col>slope</th><th scope=col>num</th></tr>\n",
       "\t<tr><th scope=col>&lt;dbl&gt;</th><th scope=col>&lt;dbl&gt;</th><th scope=col>&lt;dbl&gt;</th><th scope=col>&lt;dbl&gt;</th><th scope=col>&lt;dbl&gt;</th><th scope=col>&lt;dbl&gt;</th><th scope=col>&lt;dbl&gt;</th><th scope=col>&lt;dbl&gt;</th><th scope=col>&lt;dbl&gt;</th><th scope=col>&lt;dbl&gt;</th><th scope=col>&lt;dbl&gt;</th><th scope=col>&lt;fct&gt;</th></tr>\n",
       "</thead>\n",
       "<tbody>\n",
       "\t<tr><td>63</td><td>1</td><td>1</td><td>145</td><td>233</td><td>1</td><td>2</td><td>150</td><td>0</td><td>2.3</td><td>3</td><td>0</td></tr>\n",
       "\t<tr><td>67</td><td>1</td><td>4</td><td>160</td><td>286</td><td>0</td><td>2</td><td>108</td><td>1</td><td>1.5</td><td>2</td><td>1</td></tr>\n",
       "\t<tr><td>67</td><td>1</td><td>4</td><td>120</td><td>229</td><td>0</td><td>2</td><td>129</td><td>1</td><td>2.6</td><td>2</td><td>1</td></tr>\n",
       "\t<tr><td>37</td><td>1</td><td>3</td><td>130</td><td>250</td><td>0</td><td>0</td><td>187</td><td>0</td><td>3.5</td><td>3</td><td>0</td></tr>\n",
       "\t<tr><td>41</td><td>0</td><td>2</td><td>130</td><td>204</td><td>0</td><td>2</td><td>172</td><td>0</td><td>1.4</td><td>1</td><td>0</td></tr>\n",
       "\t<tr><td>56</td><td>1</td><td>2</td><td>120</td><td>236</td><td>0</td><td>0</td><td>178</td><td>0</td><td>0.8</td><td>1</td><td>0</td></tr>\n",
       "</tbody>\n",
       "</table>\n"
      ],
      "text/latex": [
       "A tibble: 6 × 12\n",
       "\\begin{tabular}{llllllllllll}\n",
       " age & sex & cp & trestbps & chol & fbs & restecg & thalach & exang & oldpeak & slope & num\\\\\n",
       " <dbl> & <dbl> & <dbl> & <dbl> & <dbl> & <dbl> & <dbl> & <dbl> & <dbl> & <dbl> & <dbl> & <fct>\\\\\n",
       "\\hline\n",
       "\t 63 & 1 & 1 & 145 & 233 & 1 & 2 & 150 & 0 & 2.3 & 3 & 0\\\\\n",
       "\t 67 & 1 & 4 & 160 & 286 & 0 & 2 & 108 & 1 & 1.5 & 2 & 1\\\\\n",
       "\t 67 & 1 & 4 & 120 & 229 & 0 & 2 & 129 & 1 & 2.6 & 2 & 1\\\\\n",
       "\t 37 & 1 & 3 & 130 & 250 & 0 & 0 & 187 & 0 & 3.5 & 3 & 0\\\\\n",
       "\t 41 & 0 & 2 & 130 & 204 & 0 & 2 & 172 & 0 & 1.4 & 1 & 0\\\\\n",
       "\t 56 & 1 & 2 & 120 & 236 & 0 & 0 & 178 & 0 & 0.8 & 1 & 0\\\\\n",
       "\\end{tabular}\n"
      ],
      "text/markdown": [
       "\n",
       "A tibble: 6 × 12\n",
       "\n",
       "| age &lt;dbl&gt; | sex &lt;dbl&gt; | cp &lt;dbl&gt; | trestbps &lt;dbl&gt; | chol &lt;dbl&gt; | fbs &lt;dbl&gt; | restecg &lt;dbl&gt; | thalach &lt;dbl&gt; | exang &lt;dbl&gt; | oldpeak &lt;dbl&gt; | slope &lt;dbl&gt; | num &lt;fct&gt; |\n",
       "|---|---|---|---|---|---|---|---|---|---|---|---|\n",
       "| 63 | 1 | 1 | 145 | 233 | 1 | 2 | 150 | 0 | 2.3 | 3 | 0 |\n",
       "| 67 | 1 | 4 | 160 | 286 | 0 | 2 | 108 | 1 | 1.5 | 2 | 1 |\n",
       "| 67 | 1 | 4 | 120 | 229 | 0 | 2 | 129 | 1 | 2.6 | 2 | 1 |\n",
       "| 37 | 1 | 3 | 130 | 250 | 0 | 0 | 187 | 0 | 3.5 | 3 | 0 |\n",
       "| 41 | 0 | 2 | 130 | 204 | 0 | 2 | 172 | 0 | 1.4 | 1 | 0 |\n",
       "| 56 | 1 | 2 | 120 | 236 | 0 | 0 | 178 | 0 | 0.8 | 1 | 0 |\n",
       "\n"
      ],
      "text/plain": [
       "  age sex cp trestbps chol fbs restecg thalach exang oldpeak slope num\n",
       "1 63  1   1  145      233  1   2       150     0     2.3     3     0  \n",
       "2 67  1   4  160      286  0   2       108     1     1.5     2     1  \n",
       "3 67  1   4  120      229  0   2       129     1     2.6     2     1  \n",
       "4 37  1   3  130      250  0   0       187     0     3.5     3     0  \n",
       "5 41  0   2  130      204  0   2       172     0     1.4     1     0  \n",
       "6 56  1   2  120      236  0   0       178     0     0.8     1     0  "
      ]
     },
     "metadata": {},
     "output_type": "display_data"
    }
   ],
   "source": [
    "cleveland_data <- read_csv(\"data/heart_disease/processed.cleveland.data\", col_names= FALSE)\n",
    "colnames(cleveland_data) <- c(\"age\", \"sex\", \"cp\", \"trestbps\", \"chol\", \"fbs\", \"restecg\", \"thalach\", \"exang\", \"oldpeak\", \"slope\", \"ca\" ,\"thal\", \"num\")\n",
    "\n",
    "\n",
    "heart_disease <- cleveland_data |>\n",
    "    mutate(num = as_factor(ifelse(num == 0, 0, 1))) |>\n",
    "    select(age, sex, cp, trestbps, chol, fbs, restecg, thalach, exang, oldpeak, slope, num)\n",
    "\n",
    "heart_disease |> head(6)"
   ]
  },
  {
   "cell_type": "markdown",
   "id": "a947e296-101c-47b3-b17a-d4ad88a41ba0",
   "metadata": {},
   "source": [
    "## Building Model"
   ]
  },
  {
   "cell_type": "markdown",
   "id": "dc2b83d2-9e0b-4289-a344-af6ddf1b0937",
   "metadata": {},
   "source": [
    "Splitting data for our training and testing data"
   ]
  },
  {
   "cell_type": "markdown",
   "id": "1ff53431-befc-45a8-94a7-6f5ad2ebe68c",
   "metadata": {},
   "source": [
    "The reason why I split into training and testing data is to build our K-nearest neighbor classifier using the training data and to further evaluate the accuracy of our classifier using the testing data."
   ]
  },
  {
   "cell_type": "code",
   "execution_count": 3,
   "id": "b9a37e47-3d02-4ea7-95df-8eedfe0662fe",
   "metadata": {},
   "outputs": [],
   "source": [
    "set.seed(199)\n",
    "\n",
    "heart_split <- initial_split(heart_disease, prop = 0.75, strata = num)\n",
    "heart_train <- training(heart_split)\n",
    "heart_test <- testing(heart_split)"
   ]
  },
  {
   "cell_type": "markdown",
   "id": "adca91d7-2488-4f9e-8e3a-59df288d736b",
   "metadata": {},
   "source": [
    "## Summarizing the Training Data"
   ]
  },
  {
   "cell_type": "markdown",
   "id": "b029dbcd-f201-4e28-bf71-7822fb45609e",
   "metadata": {},
   "source": [
    "I only summarize the training data because the model is only built using the training data"
   ]
  },
  {
   "cell_type": "code",
   "execution_count": 4,
   "id": "d730c57c-bfc3-4182-9b24-f86cfa9e4e8e",
   "metadata": {},
   "outputs": [
    {
     "ename": "ERROR",
     "evalue": "\u001b[1m\u001b[33mError\u001b[39m in `pivot_longer()`:\u001b[22m\n\u001b[33m!\u001b[39m Can't combine `age` <double> and `trestbps` <character>.\n",
     "output_type": "error",
     "traceback": [
      "\u001b[1m\u001b[33mError\u001b[39m in `pivot_longer()`:\u001b[22m\n\u001b[33m!\u001b[39m Can't combine `age` <double> and `trestbps` <character>.\nTraceback:\n",
      "1. summarize(group_by(pivot_longer(select(heart_train, age, trestbps, \n .     chol), cols = age:chol, names_to = \"Variable\", values_to = \"Stat\"), \n .     Variable), Minimum = min(Stat), Maximum = max(Stat), Mean = mean(Stat), \n .     Median = median(Stat), Mode = names(table(Stat))[table(Stat) == \n .         max(table(Stat))], Standard_deviation = sd(Stat))",
      "2. group_by(pivot_longer(select(heart_train, age, trestbps, chol), \n .     cols = age:chol, names_to = \"Variable\", values_to = \"Stat\"), \n .     Variable)",
      "3. pivot_longer(select(heart_train, age, trestbps, chol), cols = age:chol, \n .     names_to = \"Variable\", values_to = \"Stat\")",
      "4. pivot_longer.data.frame(select(heart_train, age, trestbps, chol), \n .     cols = age:chol, names_to = \"Variable\", values_to = \"Stat\")",
      "5. pivot_longer_spec(data = data, spec = spec, cols_vary = cols_vary, \n .     names_repair = names_repair, values_drop_na = values_drop_na, \n .     values_ptypes = values_ptypes, values_transform = values_transform, \n .     error_call = current_env())",
      "6. vec_ptype_common(!!!val_cols[col_id], .ptype = values_ptypes[[value]], \n .     .call = error_call)",
      "7. (function () \n . vec_default_ptype2(x = x, y = y, x_arg = x_arg, y_arg = y_arg, \n .     call = call, `vctrs:::from_dispatch` = `vctrs:::from_dispatch`, \n .     `vctrs:::s3_fallback` = `vctrs:::s3_fallback`))()",
      "8. vec_default_ptype2(x = x, y = y, x_arg = x_arg, y_arg = y_arg, \n .     call = call, `vctrs:::from_dispatch` = `vctrs:::from_dispatch`, \n .     `vctrs:::s3_fallback` = `vctrs:::s3_fallback`)",
      "9. withRestarts(stop_incompatible_type(x, y, x_arg = x_arg, y_arg = y_arg, \n .     `vctrs:::from_dispatch` = match_from_dispatch(...), call = call), \n .     vctrs_restart_ptype2 = function(ptype) {\n .         ptype\n .     })",
      "10. withOneRestart(expr, restarts[[1L]])",
      "11. doWithOneRestart(return(expr), restart)",
      "12. stop_incompatible_type(x, y, x_arg = x_arg, y_arg = y_arg, `vctrs:::from_dispatch` = match_from_dispatch(...), \n  .     call = call)",
      "13. stop_incompatible(x, y, x_arg = x_arg, y_arg = y_arg, details = details, \n  .     ..., message = message, class = c(class, subclass, \"vctrs_error_incompatible_type\"), \n  .     call = call)",
      "14. stop_vctrs(message, class = c(class, \"vctrs_error_incompatible\"), \n  .     x = x, y = y, details = details, ..., call = call)",
      "15. abort(message, class = c(class, \"vctrs_error\"), ..., call = call)",
      "16. signal_abort(cnd, .file)"
     ]
    }
   ],
   "source": [
    "heart_num <- heart_train |>\n",
    "    select(age, trestbps, chol) |>\n",
    "    pivot_longer(cols = age:chol,\n",
    "                names_to = \"Variable\",\n",
    "                values_to = \"Stat\") |>\n",
    "    group_by(Variable) |>\n",
    "    summarize(Minimum = min(Stat), \n",
    "              Maximum = max(Stat), \n",
    "              Mean = mean(Stat), \n",
    "              Median = median(Stat), \n",
    "              Mode = names(table(Stat))[table(Stat)==max(table(Stat))], \n",
    "              Standard_deviation = sd(Stat))\n",
    "\n",
    "heart_level_summary <- heart_train |>\n",
    "    select(num) |>\n",
    "    pivot_longer(cols = num,\n",
    "                names_to = \"Variable\",\n",
    "                values_to = \"Stat\") |>\n",
    "    group_by(Variable) |>\n",
    "    table() |>\n",
    "    as.data.frame.matrix()\n",
    "\n",
    "num_observations <- nrow(heart_train)\n",
    "\n",
    "heart_level_summary\n",
    "heart_num\n",
    "num_observations"
   ]
  },
  {
   "cell_type": "markdown",
   "id": "9e5cb318-d88e-451a-8b80-5465154a8f9a",
   "metadata": {},
   "source": [
    "## Visualizing Data"
   ]
  },
  {
   "cell_type": "code",
   "execution_count": null,
   "id": "44267e76-ca84-4dd0-a524-d8e7195f8814",
   "metadata": {},
   "outputs": [],
   "source": [
    "age_dist <- ggplot(heart_train, aes(x = age, colour = num)) +\n",
    "                geom_density() +\n",
    "                labs(x = \"Age\", \n",
    "                     y = \"Density\", \n",
    "                     color = \"Heart Disease Level\", \n",
    "                     title = \"Density plot of Weight by Obesity Level\", \n",
    "                     subtitle = \"Figure 1\") +\n",
    "                theme(text = element_text(size = 20))\n",
    "\n",
    "age_chol_plot <- ggplot(heart_train, aes(x = age, y = chol, color = num)) +\n",
    "                    geom_point() +\n",
    "                    labs(x = \"Age\", \n",
    "                         y = \"Cholesterol Level (mg/dl)\", \n",
    "                         color = \"Heart Disease Level\", \n",
    "                         title = \"Scatter plot of Cholesterol Level vs Age by Heart Disease Level\", \n",
    "                         subtitle = \"Figure 2\") +\n",
    "                    theme(text = element_text(size = 20))\n",
    "\n",
    "age_blood_plot <- ggplot(heart_train, aes(x = age, y = trestbps, color = num)) +\n",
    "                    geom_point() +\n",
    "                    labs(x = \"Age\", \n",
    "                         y = \"Blood Pressure\", \n",
    "                         color = \"Heart Disease Level\", \n",
    "                         title = \"Scatter plot of Blood Pressure vs Age by Heart Disease Level\", \n",
    "                         subtitle = \"Figure 2\") +\n",
    "                    theme(text = element_text(size = 20))\n",
    "\n",
    "options(repr.plot.length = 10, repr.plot.width = 15)"
   ]
  },
  {
   "cell_type": "code",
   "execution_count": null,
   "id": "a5770b0a-080a-4184-beea-c89ab48e01c4",
   "metadata": {},
   "outputs": [],
   "source": [
    "age_dist"
   ]
  },
  {
   "cell_type": "code",
   "execution_count": null,
   "id": "e2dd8482-0b2c-4943-b10a-d9cf256a05dc",
   "metadata": {},
   "outputs": [],
   "source": [
    "age_chol_plot"
   ]
  },
  {
   "cell_type": "code",
   "execution_count": null,
   "id": "4710340f-229c-438f-b597-a4ad020859ab",
   "metadata": {},
   "outputs": [],
   "source": [
    "age_blood_plot"
   ]
  },
  {
   "cell_type": "markdown",
   "id": "1677f109-a9a3-4dad-a0cf-bde1056e4313",
   "metadata": {},
   "source": [
    "## Best K"
   ]
  },
  {
   "cell_type": "markdown",
   "id": "1bd7bd13-ed7f-470a-a75d-d24a5d6c141f",
   "metadata": {},
   "source": [
    "Steps to find the best k : \n",
    "1. Create 5 splits for validation sets\n",
    "2. Create the model and standardized recipe for tuning the classifier\n",
    "3. Choose 15 values for k (from 1 - 15)\n",
    "4. Create the workflow to get the accuracy for each value of k"
   ]
  },
  {
   "cell_type": "code",
   "execution_count": null,
   "id": "4bef4adb-5ff1-4ade-aa47-b6e8bda4c0c5",
   "metadata": {},
   "outputs": [],
   "source": [
    "colnames(heart_disease)"
   ]
  },
  {
   "cell_type": "code",
   "execution_count": null,
   "id": "88702e3b-277c-42ba-983a-4acd45eb0e34",
   "metadata": {},
   "outputs": [],
   "source": [
    "set.seed(199) \n",
    "\n",
    "heart_vfold <- vfold_cv(heart_train, v = 5, strata = num)\n",
    "\n",
    "heart_spec <- nearest_neighbor(weight_fun = \"rectangular\", neighbors = tune()) |>\n",
    "            set_engine(\"kknn\") |>\n",
    "            set_mode(\"classification\")\n",
    "\n",
    "heart_recipe <- recipe(num ~ ., data = heart_train) |>\n",
    "                step_scale(all_predictors()) |>\n",
    "                step_center(all_predictors())  \n",
    "\n",
    "k_vals <- tibble(neighbors = seq(from = 1, to = 15, by = 1))\n",
    "\n",
    "k_data <- workflow() |>\n",
    "        add_recipe(heart_recipe) |>\n",
    "        add_model(heart_spec) |>\n",
    "        tune_grid(resamples = heart_vfold, grid = k_vals) |>\n",
    "        collect_metrics() |>\n",
    "        filter(.metric == \"accuracy\")\n",
    "\n",
    "k_data"
   ]
  },
  {
   "cell_type": "code",
   "execution_count": null,
   "id": "50ac8390-4898-4cf1-952b-c84e28f8750b",
   "metadata": {},
   "outputs": [],
   "source": [
    "k_plot <- ggplot(k_data, aes(x = neighbors, y = mean)) +\n",
    "            geom_line() +\n",
    "            geom_point() +\n",
    "            labs(x = \"Neighbors\", \n",
    "                 y = \"Mean accuracy\", \n",
    "                 title = \"Graph showing the mean accuracy for each neighbor level\", \n",
    "                 subtitle = \"Figure 3\") +\n",
    "            theme(text = element_text(size = 18))\n",
    "\n",
    "k_plot"
   ]
  },
  {
   "cell_type": "code",
   "execution_count": null,
   "id": "5d5c7928-a606-4fbf-9e06-2accda77fbf2",
   "metadata": {},
   "outputs": [],
   "source": [
    "k_min <- k_data |>\n",
    "            arrange(desc(mean)) |>\n",
    "            slice(1) |>\n",
    "            pull(neighbors)\n",
    "\n",
    "k_min"
   ]
  },
  {
   "cell_type": "markdown",
   "id": "434085ec-8d9a-449d-ba04-19e6bb573504",
   "metadata": {},
   "source": [
    "## Building the model using the min k"
   ]
  },
  {
   "cell_type": "code",
   "execution_count": null,
   "id": "cdc1202d-7f04-4810-9ea9-94c0d37db8d2",
   "metadata": {},
   "outputs": [],
   "source": [
    "heart_spec_known <- nearest_neighbor(weight_fun = \"rectangular\", neighbors = 1) |>\n",
    "            set_engine(\"kknn\") |>\n",
    "            set_mode(\"classification\")\n",
    "\n",
    "heart_fit <- workflow() |>\n",
    "        add_recipe(heart_recipe) |>\n",
    "        add_model(heart_spec) |>\n",
    "        fit(heart_train)\n"
   ]
  },
  {
   "cell_type": "markdown",
   "id": "c397b0e4-771f-4e5d-b526-3ba1da1d1330",
   "metadata": {},
   "source": [
    "## Testing the model"
   ]
  },
  {
   "cell_type": "code",
   "execution_count": null,
   "id": "8449354c-daf8-4879-a5d1-bf6df025cc45",
   "metadata": {},
   "outputs": [],
   "source": [
    "set.seed(199)\n",
    "predictions <- predict(heart_fit, heart_test) |>\n",
    "                bind_cols(heart_test)\n",
    "\n",
    "print(\"Table 5\")\n",
    "predictions"
   ]
  },
  {
   "cell_type": "code",
   "execution_count": null,
   "id": "5c41ff70-b213-4fc8-a54e-3e000087d094",
   "metadata": {},
   "outputs": [],
   "source": [
    "heart_metrics <- predictions |>\n",
    "                metrics(truth = num, estimate = .pred_class)\n",
    "\n",
    "heart_conf_mat <- predictions |>\n",
    "                conf_mat(truth = num, estimate = .pred_class)\n",
    "\n",
    "\n",
    "heart_metrics\n",
    "\n",
    "heart_conf_mat"
   ]
  }
 ],
 "metadata": {
  "kernelspec": {
   "display_name": "R",
   "language": "R",
   "name": "ir"
  },
  "language_info": {
   "codemirror_mode": "r",
   "file_extension": ".r",
   "mimetype": "text/x-r-source",
   "name": "R",
   "pygments_lexer": "r",
   "version": "4.3.1"
  }
 },
 "nbformat": 4,
 "nbformat_minor": 5
}
