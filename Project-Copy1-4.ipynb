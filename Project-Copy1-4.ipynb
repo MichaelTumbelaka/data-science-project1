{
 "cells": [
  {
   "cell_type": "markdown",
   "id": "36c3a4e2-b1ef-4534-9132-709a376b9297",
   "metadata": {},
   "source": [
    "# Heart Disease Classification Using Age, Cholesterol Level and Blood Pressure"
   ]
  },
  {
   "cell_type": "markdown",
   "id": "3c34cf6e-b323-4a6b-89de-eca36a4692f8",
   "metadata": {},
   "source": [
    "# Introduction"
   ]
  },
  {
   "cell_type": "markdown",
   "id": "cba38f60-71e4-4898-acb3-9ea5a3f985c2",
   "metadata": {},
   "source": [
    "Heart Disease by definition is a type of disease that affects the heart. There are a couple of levels for heart disease which consist of 5 levels, but for this research, we are only looking at level 0 as someone with no heart disease, and level 1,2,3,4 which will be grouped that represent someone with a heart disease.\n",
    "\n",
    "Blood pressure, cholesterol, and age are known as the factors for heart disease. The chance of getting heart disease increases with age. High cholesterol contributes to the development of atherosclerosis which contributes to worsening cardiovascular health. Systolic and diastolic blood pressure are indicators of cardiovascular health, and high blood pressure poses a significant risk of heart disease (American Heart Association, 2022).\n",
    "\n",
    "In this data analysis, I would like to classify the heart disease category for an individual using age, cholesterol level and blood pressure, in order for people who are reading this project to know if they have a possibility to have a heart disease.\n",
    "\n",
    "Question : \n",
    "Does the new observation have a heart disease by predicting it using age, cholesterol level, and resting blood pressure.\n",
    "\n",
    "The dataset used includes data on the estimated heart disease levels of individuals from Cleveland, Hungarian, Switzerland, and Virginia. This dataset has 13 predictors and 1 target which is the heart disease level for each individual.\n",
    "\n",
    "In this project, it will focus on the following predictors to build our classification model. Key terms of the predictors are defined below:\n",
    "\n",
    "- age is Age of a Person (years)\n",
    "\n",
    "- trestbps is Resting Blood Pressure (mm Hg)\n",
    "\n",
    "- chol is Serum Cholesterol (mg/dl)"
   ]
  },
  {
   "cell_type": "markdown",
   "id": "5c1bb3dd-1291-4dee-8192-cccdbe55ace6",
   "metadata": {},
   "source": [
    "## Libraries"
   ]
  },
  {
   "cell_type": "code",
   "execution_count": null,
   "id": "46d6d954-ae94-46a5-8723-c8ce5a415fc0",
   "metadata": {},
   "outputs": [
    {
     "ename": "",
     "evalue": "",
     "output_type": "error",
     "traceback": [
      "\u001b[1;31mRunning cells with '/usr/local/bin/python3.10' requires ipykernel package.\n",
      "\u001b[1;31mRun the following command to install 'ipykernel' into the Python environment. \n",
      "\u001b[1;31mCommand: '/usr/local/bin/python3.10 -m pip install ipykernel -U --user --force-reinstall'"
     ]
    }
   ],
   "source": [
    "library(repr)\n",
    "library(tidyverse)\n",
    "library(tidymodels)\n",
    "library(reshape2)"
   ]
  },
  {
   "cell_type": "markdown",
   "id": "1bc73baa-526f-4540-9963-4c3d33625fc7",
   "metadata": {},
   "source": [
    "## Loading Data and Data Wrangling"
   ]
  },
  {
   "cell_type": "markdown",
   "id": "4bcb0eda-6b98-405e-9653-372fe0cf909d",
   "metadata": {},
   "source": [
    "In this project, I am using all of the datasets so that there would be more data to build a model with. The reason why more data is better is because by training a model with more data, there is a chance that the accuracy of the prediction will increase as well.\n",
    "\n",
    "Process :\n",
    "1. Loading the data\n",
    "2. Combinining the data into one big dataset\n",
    "3. Giving column names\n",
    "4. Filter the variables that will be used as predictors and target\n",
    "5. Remove the rows with \"?\" values\n",
    "6. Change all of the predictors to numeric, and set the target to as factor\n",
    "7. Group the target as 0 (no heart disease) and 1 (having heart disease)\n",
    "\n",
    "**I filtered out the row with cholesterol being zero because it does not make sense if a person has no cholesterol at all."
   ]
  },
  {
   "cell_type": "code",
   "execution_count": null,
   "id": "84a56d58-6600-402f-b23e-4e330cfe4310",
   "metadata": {},
   "outputs": [
    {
     "ename": "",
     "evalue": "",
     "output_type": "error",
     "traceback": [
      "\u001b[1;31mRunning cells with '/usr/local/bin/python3.10' requires ipykernel package.\n",
      "\u001b[1;31mRun the following command to install 'ipykernel' into the Python environment. \n",
      "\u001b[1;31mCommand: '/usr/local/bin/python3.10 -m pip install ipykernel -U --user --force-reinstall'"
     ]
    }
   ],
   "source": [
    "cleveland_data <- read_csv(\"data/heart_disease/processed.cleveland.data\", col_names= FALSE, show_col_types = FALSE)\n",
    "hungarian_data <- read_csv(\"data/heart_disease/processed.hungarian.data\", col_names = FALSE, show_col_types = FALSE)\n",
    "switzerland_data <- read_csv(\"data/heart_disease/processed.switzerland.data\", col_names= FALSE, show_col_types = FALSE)\n",
    "va_data <- read_csv(\"data/heart_disease/processed.va.data\", col_names = FALSE, show_col_types = FALSE)\n",
    "\n",
    "\n",
    "combined_data <- rbind(cleveland_data, hungarian_data, switzerland_data, va_data) \n",
    "\n",
    "colnames(combined_data) <- c(\"age\",\"sex\",\"cp\",\"trestbps\",\"chol\",\"fbs\",\"restecg\",\"thalach\",\"exang\",\"oldpeak\",\"slope\",\"ca\",\"thal\",\"num\")\n",
    "\n",
    "selective_data <- combined_data |> select(age, trestbps, chol, num)\n",
    "\n",
    "selective_data[selective_data == \"?\"] <- NA\n",
    "\n",
    "clean_data <- na.omit(selective_data)\n",
    "\n",
    "completed_data <- clean_data |>\n",
    "    mutate(trestbps = as.numeric(trestbps), chol = as.numeric(chol))\n",
    "\n",
    "heart_disease <- completed_data |>\n",
    "    mutate(num = as_factor(ifelse(num == 0, 0, 1))) |>\n",
    "    filter(chol > 0)\n",
    "\n",
    "print(\"Table 1\")\n",
    "heart_disease |> head(6)"
   ]
  },
  {
   "cell_type": "markdown",
   "id": "a947e296-101c-47b3-b17a-d4ad88a41ba0",
   "metadata": {
    "jp-MarkdownHeadingCollapsed": true
   },
   "source": [
    "## Building Model"
   ]
  },
  {
   "cell_type": "markdown",
   "id": "dc2b83d2-9e0b-4289-a344-af6ddf1b0937",
   "metadata": {},
   "source": [
    "Splitting data for our training and testing data"
   ]
  },
  {
   "cell_type": "markdown",
   "id": "1ff53431-befc-45a8-94a7-6f5ad2ebe68c",
   "metadata": {},
   "source": [
    "The reason why I split into training and testing data is to build our K-nearest neighbor classifier using the training data and to further evaluate the accuracy of our classifier using the testing data."
   ]
  },
  {
   "cell_type": "code",
   "execution_count": null,
   "id": "b9a37e47-3d02-4ea7-95df-8eedfe0662fe",
   "metadata": {},
   "outputs": [
    {
     "ename": "",
     "evalue": "",
     "output_type": "error",
     "traceback": [
      "\u001b[1;31mRunning cells with '/usr/local/bin/python3.10' requires ipykernel package.\n",
      "\u001b[1;31mRun the following command to install 'ipykernel' into the Python environment. \n",
      "\u001b[1;31mCommand: '/usr/local/bin/python3.10 -m pip install ipykernel -U --user --force-reinstall'"
     ]
    }
   ],
   "source": [
    "set.seed(199)\n",
    "\n",
    "heart_split <- initial_split(heart_disease, prop = 0.75, strata = num)\n",
    "heart_train <- training(heart_split)\n",
    "heart_test <- testing(heart_split)"
   ]
  },
  {
   "cell_type": "markdown",
   "id": "adca91d7-2488-4f9e-8e3a-59df288d736b",
   "metadata": {},
   "source": [
    "## Summarizing the Training Data"
   ]
  },
  {
   "cell_type": "markdown",
   "id": "b029dbcd-f201-4e28-bf71-7822fb45609e",
   "metadata": {},
   "source": [
    "I only summarize the training data because the model is only built using the training data"
   ]
  },
  {
   "cell_type": "code",
   "execution_count": null,
   "id": "d730c57c-bfc3-4182-9b24-f86cfa9e4e8e",
   "metadata": {},
   "outputs": [
    {
     "ename": "",
     "evalue": "",
     "output_type": "error",
     "traceback": [
      "\u001b[1;31mRunning cells with '/usr/local/bin/python3.10' requires ipykernel package.\n",
      "\u001b[1;31mRun the following command to install 'ipykernel' into the Python environment. \n",
      "\u001b[1;31mCommand: '/usr/local/bin/python3.10 -m pip install ipykernel -U --user --force-reinstall'"
     ]
    }
   ],
   "source": [
    "heart_num <- heart_train |>\n",
    "    pivot_longer(cols = age:chol,\n",
    "                names_to = \"Variable\",\n",
    "                values_to = \"Stat\") |>\n",
    "    group_by(Variable, num) |>\n",
    "    summarize(Minimum = min(Stat), \n",
    "              Maximum = max(Stat), \n",
    "              Mean = mean(Stat), \n",
    "              Median = median(Stat), \n",
    "              Standard_deviation = sd(Stat))\n",
    "\n",
    "heart_level_summary <- heart_train |>\n",
    "    select(num) |>\n",
    "    pivot_longer(cols = num,\n",
    "                names_to = \"Variable\",\n",
    "                values_to = \"Stat\") |>\n",
    "    group_by(Variable) |>\n",
    "    table() |>\n",
    "    as.data.frame.matrix()\n",
    "\n",
    "num_observations <- nrow(heart_train)\n",
    "\n",
    "print(\"Table 2\")\n",
    "heart_num\n",
    "\n",
    "print(\"Table 3\")\n",
    "heart_level_summary"
   ]
  },
  {
   "cell_type": "markdown",
   "id": "89115865-4095-4479-98c9-ea22552f8f84",
   "metadata": {},
   "source": [
    "Firstly, the data is well balanced as the dataset has 267 0's and 239 1's as the target from table 3. By having a balanced dataset, it could help the model to predict classes better, because if it leans towards only one of the variable then the model would only predict that variable for most of the unknown data.\n",
    "\n",
    "Secondly, the mean difference for each num is not that far from table 2. In age, the mean difference is only 5.5 units, in chol(cholesterol) it has 16.2 units of difference, and in trestbps(resting blood pressure) it has 8.4 units of difference, which would mean that the model would not predict well. For each num(class) if the variables are to close to each other, than the model will have a hard time in predicting as there is no real distinguisher between the classes."
   ]
  },
  {
   "cell_type": "markdown",
   "id": "9e5cb318-d88e-451a-8b80-5465154a8f9a",
   "metadata": {},
   "source": [
    "## Visualizing Data"
   ]
  },
  {
   "cell_type": "code",
   "execution_count": null,
   "id": "44267e76-ca84-4dd0-a524-d8e7195f8814",
   "metadata": {},
   "outputs": [
    {
     "ename": "",
     "evalue": "",
     "output_type": "error",
     "traceback": [
      "\u001b[1;31mRunning cells with '/usr/local/bin/python3.10' requires ipykernel package.\n",
      "\u001b[1;31mRun the following command to install 'ipykernel' into the Python environment. \n",
      "\u001b[1;31mCommand: '/usr/local/bin/python3.10 -m pip install ipykernel -U --user --force-reinstall'"
     ]
    }
   ],
   "source": [
    "age_dist <- ggplot(heart_train, aes(x = age, colour = num)) +\n",
    "                geom_density() +\n",
    "                labs(x = \"Age\", \n",
    "                     y = \"Density\", \n",
    "                     color = \"Heart Disease Level\", \n",
    "                     title = \"Density plot of Age by Heart Disease\",\n",
    "                     subtitle = \"Figure 1\") +\n",
    "                theme(text = element_text(size = 20))\n",
    "\n",
    "age_chol_plot <- ggplot(heart_train, aes(x = age, y = chol, color = num)) +\n",
    "                    geom_point() +\n",
    "                    labs(x = \"Age\", \n",
    "                         y = \"Cholesterol Level (mg/dl)\", \n",
    "                         color = \"Heart Disease Level\", \n",
    "                         title = \"Scatter plot of Cholesterol Level vs Age by Heart Disease Level\",\n",
    "                     subtitle = \"Figure 2\") +\n",
    "                    theme(text = element_text(size = 20))\n",
    "\n",
    "age_blood_plot <- ggplot(heart_train, aes(x = age, y = trestbps, color = num)) +\n",
    "                    geom_point() +\n",
    "                    labs(x = \"Age\", \n",
    "                         y = \"Blood Pressure\", \n",
    "                         color = \"Heart Disease Level\", \n",
    "                         title = \"Scatter plot of Blood Pressure vs Age by Heart Disease Level\",\n",
    "                     subtitle = \"Figure 3\") +\n",
    "                    theme(text = element_text(size = 20))\n",
    "\n",
    "options(repr.plot.length = 5, repr.plot.width = 15)"
   ]
  },
  {
   "cell_type": "code",
   "execution_count": null,
   "id": "a5770b0a-080a-4184-beea-c89ab48e01c4",
   "metadata": {},
   "outputs": [
    {
     "ename": "",
     "evalue": "",
     "output_type": "error",
     "traceback": [
      "\u001b[1;31mRunning cells with '/usr/local/bin/python3.10' requires ipykernel package.\n",
      "\u001b[1;31mRun the following command to install 'ipykernel' into the Python environment. \n",
      "\u001b[1;31mCommand: '/usr/local/bin/python3.10 -m pip install ipykernel -U --user --force-reinstall'"
     ]
    }
   ],
   "source": [
    "age_dist"
   ]
  },
  {
   "cell_type": "markdown",
   "id": "1051755e-ddbf-442e-b7f8-78e71f3d6b03",
   "metadata": {},
   "source": [
    "It can be seen from figure 1 that the most amount of people that has been identified with heart disease is around 57 years old, where as the most amount of people that has no heart disease is at around 54 years old, as I have mentioned before it is quite close meaning that it is not that distinguishable and the model will have a hard time in predicting the new observation."
   ]
  },
  {
   "cell_type": "code",
   "execution_count": null,
   "id": "e2dd8482-0b2c-4943-b10a-d9cf256a05dc",
   "metadata": {},
   "outputs": [
    {
     "ename": "",
     "evalue": "",
     "output_type": "error",
     "traceback": [
      "\u001b[1;31mRunning cells with '/usr/local/bin/python3.10' requires ipykernel package.\n",
      "\u001b[1;31mRun the following command to install 'ipykernel' into the Python environment. \n",
      "\u001b[1;31mCommand: '/usr/local/bin/python3.10 -m pip install ipykernel -U --user --force-reinstall'"
     ]
    }
   ],
   "source": [
    "age_chol_plot"
   ]
  },
  {
   "cell_type": "code",
   "execution_count": null,
   "id": "4710340f-229c-438f-b597-a4ad020859ab",
   "metadata": {},
   "outputs": [
    {
     "ename": "",
     "evalue": "",
     "output_type": "error",
     "traceback": [
      "\u001b[1;31mRunning cells with '/usr/local/bin/python3.10' requires ipykernel package.\n",
      "\u001b[1;31mRun the following command to install 'ipykernel' into the Python environment. \n",
      "\u001b[1;31mCommand: '/usr/local/bin/python3.10 -m pip install ipykernel -U --user --force-reinstall'"
     ]
    }
   ],
   "source": [
    "age_blood_plot"
   ]
  },
  {
   "cell_type": "markdown",
   "id": "3ac9e49b-1ea9-4a5b-bf46-891dccb0d8e5",
   "metadata": {},
   "source": [
    "From figure 2 and figure 3, cholesterol vs age and blood pressure vs age, it can be seen that there are no correlation between the variables which is a good sign because it would mean that there is no multicollinearity as we cannot solve cases like that using knn. But the bad thing is that there are overlapping heart disease levels which would mean that it would be hard to predict new observations as the model would have a hard time deciding where to classify it."
   ]
  },
  {
   "cell_type": "markdown",
   "id": "e1aa285e-f146-4249-b3e8-fcb5d514eace",
   "metadata": {},
   "source": [
    "## Best K"
   ]
  },
  {
   "cell_type": "markdown",
   "id": "e62e3074-6937-483f-821f-8b7468bab9fd",
   "metadata": {},
   "source": [
    "Steps to find the best k :\n",
    "\n",
    "1. Create 5 splits for validation sets\n",
    "2. Create the model and standardized recipe for tuning the classifier\n",
    "3. Choose 30 values for k (from 1 - 30)\n",
    "5. Create the workflow to get the accuracy for each k's"
   ]
  },
  {
   "cell_type": "markdown",
   "id": "c40efc6c-4087-45d7-bbae-db86eb06b40a",
   "metadata": {},
   "source": [
    "Note**\n",
    "\n",
    "1. The reason I chose 40 as the upper limit for k is because in practice usually the best k is sqrt(n) as n is the total number of observations.\n",
    "2. It can be seen from the code that the k values increments by 2 because the accuracy for the even values is the same as the k value before it."
   ]
  },
  {
   "cell_type": "code",
   "execution_count": null,
   "id": "bd74e435-0483-4e39-97ed-3e53b3a99014",
   "metadata": {},
   "outputs": [
    {
     "ename": "",
     "evalue": "",
     "output_type": "error",
     "traceback": [
      "\u001b[1;31mRunning cells with '/usr/local/bin/python3.10' requires ipykernel package.\n",
      "\u001b[1;31mRun the following command to install 'ipykernel' into the Python environment. \n",
      "\u001b[1;31mCommand: '/usr/local/bin/python3.10 -m pip install ipykernel -U --user --force-reinstall'"
     ]
    }
   ],
   "source": [
    "set.seed(199) \n",
    "\n",
    "heart_vfold <- vfold_cv(heart_train, v = 5, strata = num)\n",
    "\n",
    "heart_spec <- nearest_neighbor(weight_fun = \"rectangular\", neighbors = tune()) |>\n",
    "            set_engine(\"kknn\") |>\n",
    "            set_mode(\"classification\")\n",
    "\n",
    "heart_recipe <- recipe(num ~ ., data = heart_train) |>\n",
    "                step_scale(all_predictors()) |>\n",
    "                step_center(all_predictors())  \n",
    "\n",
    "k_vals <- tibble(neighbors = seq(from = 1, to = 30, by = 2))\n",
    "\n",
    "k_data <- workflow() |>\n",
    "        add_recipe(heart_recipe) |>\n",
    "        add_model(heart_spec) |>\n",
    "        tune_grid(resamples = heart_vfold, grid = k_vals) |>\n",
    "        collect_metrics() |>\n",
    "        filter(.metric == \"accuracy\")\n",
    "\n",
    "print(\"Table 4\")\n",
    "k_data"
   ]
  },
  {
   "cell_type": "markdown",
   "id": "e84ffd56-2869-4bf6-bd7a-91f6badafc68",
   "metadata": {},
   "source": [
    "To ease things up, I will be making a graph below so that it would be easier to determine which k(number of neigbours) would be the best for this model."
   ]
  },
  {
   "cell_type": "code",
   "execution_count": null,
   "id": "c2b5f27d-5117-445a-be6b-71615d7645eb",
   "metadata": {},
   "outputs": [
    {
     "ename": "",
     "evalue": "",
     "output_type": "error",
     "traceback": [
      "\u001b[1;31mRunning cells with '/usr/local/bin/python3.10' requires ipykernel package.\n",
      "\u001b[1;31mRun the following command to install 'ipykernel' into the Python environment. \n",
      "\u001b[1;31mCommand: '/usr/local/bin/python3.10 -m pip install ipykernel -U --user --force-reinstall'"
     ]
    }
   ],
   "source": [
    "k_plot <- ggplot(k_data, aes(x = neighbors, y = mean)) +\n",
    "            geom_line() +\n",
    "            geom_point() +\n",
    "            labs(x = \"Neighbors\", \n",
    "                 y = \"Mean accuracy\", \n",
    "                 title = \"Graph showing the mean accuracy for each neighbor level\", \n",
    "                 subtitle = \"Figure 4\") +\n",
    "            theme(text = element_text(size = 18))\n",
    "k_plot"
   ]
  },
  {
   "cell_type": "code",
   "execution_count": null,
   "id": "427b146c-6ba7-4366-a27c-cc1ea435c0a1",
   "metadata": {},
   "outputs": [
    {
     "ename": "",
     "evalue": "",
     "output_type": "error",
     "traceback": [
      "\u001b[1;31mRunning cells with '/usr/local/bin/python3.10' requires ipykernel package.\n",
      "\u001b[1;31mRun the following command to install 'ipykernel' into the Python environment. \n",
      "\u001b[1;31mCommand: '/usr/local/bin/python3.10 -m pip install ipykernel -U --user --force-reinstall'"
     ]
    }
   ],
   "source": [
    "k_min <- k_data |>\n",
    "            arrange(desc(mean)) |>\n",
    "            slice(1) |>\n",
    "            pull(neighbors)\n",
    "\n",
    "k_min"
   ]
  },
  {
   "cell_type": "markdown",
   "id": "94ecc5cc-abe3-40ba-88cd-575859a31d77",
   "metadata": {},
   "source": [
    "From figure 4, I chose k equals 21 because it has the highest accuracy while not too high of a number such that it would overfit. By the rule of thumb the optimal k should be around the value of the square root of the total observation."
   ]
  },
  {
   "cell_type": "markdown",
   "id": "a3ca9f84-4c9d-4de0-9ae5-58bcbb976a40",
   "metadata": {},
   "source": [
    "## Building the model using the best k"
   ]
  },
  {
   "cell_type": "markdown",
   "id": "dd17dea8-9d3e-41b8-b902-8bf53023cb93",
   "metadata": {},
   "source": [
    "After getting the best k, the next thing to do is :\n",
    "1. Create a new model using the new k(best number of neighbours)\n",
    "2. Build a new classifier using the new model and using the recipe for the workflow, and then fit our training data."
   ]
  },
  {
   "cell_type": "code",
   "execution_count": null,
   "id": "a84c8d29-3481-4cf6-856e-82cfcffbfc0f",
   "metadata": {},
   "outputs": [
    {
     "ename": "",
     "evalue": "",
     "output_type": "error",
     "traceback": [
      "\u001b[1;31mRunning cells with '/usr/local/bin/python3.10' requires ipykernel package.\n",
      "\u001b[1;31mRun the following command to install 'ipykernel' into the Python environment. \n",
      "\u001b[1;31mCommand: '/usr/local/bin/python3.10 -m pip install ipykernel -U --user --force-reinstall'"
     ]
    }
   ],
   "source": [
    "heart_spec_known <- nearest_neighbor(weight_fun = \"rectangular\", neighbors = k_min) |>\n",
    "            set_engine(\"kknn\") |>\n",
    "            set_mode(\"classification\")\n",
    "\n",
    "heart_fit <- workflow() |>\n",
    "        add_recipe(heart_recipe) |>\n",
    "        add_model(heart_spec_known) |>\n",
    "        fit(heart_train)\n"
   ]
  },
  {
   "cell_type": "markdown",
   "id": "467fa87e-ed15-4e17-98e4-df0bd62a0ca0",
   "metadata": {},
   "source": [
    "## Testing the New Classifier"
   ]
  },
  {
   "cell_type": "markdown",
   "id": "8b58e5c9-16b4-4a16-a6b2-cdfde93c6b5c",
   "metadata": {},
   "source": [
    "Testing our new K-nearest neighbours classifier by predicting the testing data to get the accuracy of the classifier."
   ]
  },
  {
   "cell_type": "code",
   "execution_count": null,
   "id": "4572b6ad-2155-4969-b46c-b18238d9e007",
   "metadata": {},
   "outputs": [
    {
     "ename": "",
     "evalue": "",
     "output_type": "error",
     "traceback": [
      "\u001b[1;31mRunning cells with '/usr/local/bin/python3.10' requires ipykernel package.\n",
      "\u001b[1;31mRun the following command to install 'ipykernel' into the Python environment. \n",
      "\u001b[1;31mCommand: '/usr/local/bin/python3.10 -m pip install ipykernel -U --user --force-reinstall'"
     ]
    }
   ],
   "source": [
    "set.seed(199)\n",
    "predictions <- predict(heart_fit, heart_test) |>\n",
    "                bind_cols(heart_test)\n",
    "\n",
    "print(\"Table 5\")\n",
    "predictions |> head(6)"
   ]
  },
  {
   "cell_type": "code",
   "execution_count": null,
   "id": "f5bba043-5298-4201-a587-ca27624976af",
   "metadata": {},
   "outputs": [
    {
     "ename": "",
     "evalue": "",
     "output_type": "error",
     "traceback": [
      "\u001b[1;31mRunning cells with '/usr/local/bin/python3.10' requires ipykernel package.\n",
      "\u001b[1;31mRun the following command to install 'ipykernel' into the Python environment. \n",
      "\u001b[1;31mCommand: '/usr/local/bin/python3.10 -m pip install ipykernel -U --user --force-reinstall'"
     ]
    }
   ],
   "source": [
    "heart_metrics <- predictions |>\n",
    "                metrics(truth = num, estimate = .pred_class)\n",
    "\n",
    "heart_conf_mat <- predictions |>\n",
    "                conf_mat(truth = num, estimate = .pred_class)\n",
    "\n",
    "print(\"Table 6\")\n",
    "heart_metrics\n",
    "\n",
    "print(\"Table 7\")\n",
    "heart_conf_mat"
   ]
  },
  {
   "cell_type": "markdown",
   "id": "f5760bf8-e866-4e70-8714-6d69092e9306",
   "metadata": {},
   "source": [
    "We can see from the table 6 above that my classifier has ~57% accuracy in predicting the testing data. By looking at the information above, we can say that this classifier has mediocre accuracy in predicting heart disease based on their age, cholesterol level, and blood pressure, and should not be used for real life implementation."
   ]
  },
  {
   "cell_type": "markdown",
   "id": "0db71a51-9067-4ae6-a2ed-b84b34488d3a",
   "metadata": {},
   "source": [
    "## Prediction Using a New Observation"
   ]
  },
  {
   "cell_type": "code",
   "execution_count": null,
   "id": "297d0f9e-98dc-4132-951d-98398b395807",
   "metadata": {},
   "outputs": [
    {
     "ename": "",
     "evalue": "",
     "output_type": "error",
     "traceback": [
      "\u001b[1;31mRunning cells with '/usr/local/bin/python3.10' requires ipykernel package.\n",
      "\u001b[1;31mRun the following command to install 'ipykernel' into the Python environment. \n",
      "\u001b[1;31mCommand: '/usr/local/bin/python3.10 -m pip install ipykernel -U --user --force-reinstall'"
     ]
    }
   ],
   "source": [
    "set.seed(199)\n",
    "new_obs <- tibble(age = runif(1,28,77), trestbps = runif(1,94,134), chol = runif(1,85,603), num = \"Unknown\")\n",
    "\n",
    "obesity_new <- rbind(heart_disease, new_obs)\n",
    "\n",
    "new_pred <- predict(heart_fit, new_obs) |>\n",
    "                    bind_cols(new_obs) |>\n",
    "                    rename(Prediction = .pred_class) |>\n",
    "                    select(-\"num\")\n",
    "\n",
    "print(\"Table 8\")\n",
    "new_pred"
   ]
  },
  {
   "cell_type": "markdown",
   "id": "2ac9b35b-f207-47ad-b735-0e2b12c68eb0",
   "metadata": {},
   "source": [
    "For the new observation, my model predicts that this person does not have a heart disease."
   ]
  },
  {
   "cell_type": "code",
   "execution_count": null,
   "id": "bd740587-da37-4502-a165-72f74747587b",
   "metadata": {},
   "outputs": [
    {
     "ename": "",
     "evalue": "",
     "output_type": "error",
     "traceback": [
      "\u001b[1;31mRunning cells with '/usr/local/bin/python3.10' requires ipykernel package.\n",
      "\u001b[1;31mRun the following command to install 'ipykernel' into the Python environment. \n",
      "\u001b[1;31mCommand: '/usr/local/bin/python3.10 -m pip install ipykernel -U --user --force-reinstall'"
     ]
    }
   ],
   "source": [
    "options(repr.plot.width = 16, repr.plot.length = 20)\n",
    "names <- c(\"No Heart Disease\", \"Heart Disease\")\n",
    "\n",
    "matrix <- matrix(unlist(heart_conf_mat), ncol = 2, nrow = 2)\n",
    "\n",
    "matrix_df <- round((matrix/colSums(matrix))*100,2) |>\n",
    "                        as.data.frame()\n",
    "\n",
    "colnames(matrix_df)  <- names\n",
    "\n",
    "matrix_df_2 <-  matrix_df %>%\n",
    "                mutate(Prediction = names) |>\n",
    "                melt()\n",
    "\n",
    "\n",
    "matrix_heatmap <- ggplot(matrix_df_2, aes(x = variable, y = Prediction, fill = value)) +\n",
    "                    geom_tile() +\n",
    "                    geom_text(aes(label = value), color = \"white\", size = 6) +\n",
    "                    labs(x = \"Truth\", \n",
    "                         y = \"Prediction\", \n",
    "                         fill = \"Prediction accuracy\", \n",
    "                         title = \"Heatmap of the confusion matrix\",\n",
    "                         subtitle = \"Figure 5\") +\n",
    "                    theme(text = element_text(size = 20))\n",
    "                    \n",
    "matrix_heatmap"
   ]
  },
  {
   "cell_type": "markdown",
   "id": "2ed7f0dd-e164-480d-b18c-6fcd782816b5",
   "metadata": {},
   "source": [
    "Figure 5 presents a heatmap representation of a confusion matrix generated by our classifier. This matrix is a table that shows how accurate our predictions were across various classes, using shades of blue where lighter tones indicate higher accuracy. For example, when we tested our classifier on a new data point and it was classified as \"no heart disease,\" the confusion matrix suggests there's a 60.67% chance this prediction is correct, meaning the individual likely does not have heart disease. This visualization played a pivotal role in our analysis, helping us to carefully assess how well our classifier performs in real-world scenarios."
   ]
  },
  {
   "cell_type": "markdown",
   "id": "b41bd28b-bcc7-43ae-b7f0-1a27bc6f9226",
   "metadata": {},
   "source": [
    "## Discussion"
   ]
  },
  {
   "cell_type": "markdown",
   "id": "7fd99391-8f06-4ec3-888b-0c691fa1e19b",
   "metadata": {},
   "source": [
    "### Summary"
   ]
  },
  {
   "cell_type": "markdown",
   "id": "8cc0e531-02ff-4048-8a47-ea64cc5ada50",
   "metadata": {},
   "source": [
    "In this project, I used the K-nearest neighbors (KNN) classification model to determine the presence or absence of heart disease based on factors like age, cholesterol level, and blood pressure. Although the dataset originally contains specific levels of heart disease, my analysis focused solely on binary classification which is 0 for no heart disease and 1 for heart disease.\n",
    "\n",
    "Applying KNN with a k-value of 21, as detailed in Figure 4, resulted in classifying a new observation as not having heart disease. When assessing the classifier's performance, it shows an approximate of 57% accuracy for this task. Figure 5's heatmap represents the confusion matrix, which shows that a newly classified observation, identified as not having heart disease, has a 60.67% probability of being correctly classified in this category."
   ]
  },
  {
   "cell_type": "markdown",
   "id": "277d09c5-990b-42ce-a1ec-b93bf3d24acd",
   "metadata": {},
   "source": [
    "### Impacts"
   ]
  },
  {
   "cell_type": "markdown",
   "id": "74e4fd2a-478e-41cc-a4e9-a96f879c2157",
   "metadata": {},
   "source": [
    "Classifying individuals using a heart disease detector helps them understand their heart health based on age, blood pressure, and cholesterol levels as the predictors. When the classifier indicates heart disease, it encourages individuals to consider changes in their lifestyle habits. For example, they might choose to eat healthier foods or exercise more often, as suggested by recent studies (Gunjan, 2023), aiming to lower their cholesterol and blood pressure levels and reduce their risk of developing heart disease. These classifications raise awareness about heart disease risks and remind individuals to make better decisions that can contribute to a longer and healthier life."
   ]
  },
  {
   "cell_type": "markdown",
   "id": "37422f57-8fcc-4742-b92c-dd1175b505f6",
   "metadata": {},
   "source": [
    "### Future Questions"
   ]
  },
  {
   "cell_type": "markdown",
   "id": "fb50a210-a43f-4537-9925-7ae526cef7b7",
   "metadata": {},
   "source": [
    "In the future, what can be done is dig more deeply on the levels of heart disease with a much larger dataset with more predictors(outside the given predictors in the dataset) rather than just the 3 that were used for this project such that it could give a better accuracy for the new observations. We could also look into more possible diseases that could also be related to someone having a heart disease (eg. What is the relation between heart disease and obesity?). "
   ]
  },
  {
   "cell_type": "markdown",
   "id": "6c83098d-2dfc-4130-84b9-24a27c5ccd37",
   "metadata": {},
   "source": [
    "## References"
   ]
  },
  {
   "cell_type": "markdown",
   "id": "0ed707c7-c9a5-4dc4-9892-959912146112",
   "metadata": {},
   "source": [
    "American Heart Association. (2022). Understanding Blood Pressure Readings. Retrieved from https://www.heart.org/en/health-topics/high-blood-pressure/understanding-blood-pressure-readings\n",
    "\n",
    "Gunjan, A. (2023). Lifestyle changes to lower cholesterol and blood pressure levels for heart disease prevention. Retrieved from https://www.ncbi.nlm.nih.gov/pmc/articles/PMC10460604/"
   ]
  }
 ],
 "metadata": {
  "kernelspec": {
   "display_name": "Python 3",
   "language": "python",
   "name": "python3"
  },
  "language_info": {
   "codemirror_mode": "r",
   "file_extension": ".r",
   "mimetype": "text/x-r-source",
   "name": "python",
   "pygments_lexer": "r",
   "version": "3.10.0 (v3.10.0:b494f5935c, Oct  4 2021, 14:59:19) [Clang 12.0.5 (clang-1205.0.22.11)]"
  },
  "vscode": {
   "interpreter": {
    "hash": "7e1998ff7f8aa20ada591c520b972326324e5ea05489af9e422744c7c09f6dad"
   }
  }
 },
 "nbformat": 4,
 "nbformat_minor": 5
}
